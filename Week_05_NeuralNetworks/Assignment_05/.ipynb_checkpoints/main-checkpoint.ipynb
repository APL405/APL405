{
 "cells": [
  {
   "cell_type": "code",
   "execution_count": 1,
   "id": "5890cb75",
   "metadata": {},
   "outputs": [],
   "source": [
    "import os\n",
    "import unittest\n",
    "import numpy as np\n",
    "import pandas as pd\n",
    "from Practice1 import costing"
   ]
  },
  {
   "cell_type": "code",
   "execution_count": 2,
   "id": "3d2ab767",
   "metadata": {},
   "outputs": [],
   "source": [
    "Mdata =pd.read_csv(os.path.join('fashion-mnist_train.csv'))"
   ]
  },
  {
   "cell_type": "code",
   "execution_count": 3,
   "id": "e2c1f093",
   "metadata": {},
   "outputs": [],
   "source": [
    "data1 = Mdata.to_numpy() # Convert to numpy array\n",
    "y = data1[:,0]\n",
    "X1 = data1[:,1:]"
   ]
  },
  {
   "cell_type": "code",
   "execution_count": 5,
   "id": "8ca3fe8f",
   "metadata": {},
   "outputs": [
    {
     "name": "stdout",
     "output_type": "stream",
     "text": [
      "[  0   0   0   0   0   3   1   0   0   0  84  61  31  10   1  30 105  31\n",
      "   0   0   0   0   2   0   0   0   0   0   0   0   0   0   0   0   0   9\n",
      "  98 154 176 123  93 104 165 205 186 128 142  64   1   0   0   0   0   0\n",
      "   0   0   0   0   0   0   0  35 121 140 147 143 149 147 147 154 157 151\n",
      " 128 107 116 137 126  99   8   0   0   0   0   0   0   0   0   0  95 165\n",
      " 146 134 138 138 143 131 127 124 119 123 140 126 134 134 132 128 100  12\n",
      "   0   2   0   0   0   0   0   0 160 152 133 140 152 154 147 160 168 150\n",
      " 149 134 129 135 126 126 120 104 112  83   0   1   0   0   0   0   0  19\n",
      " 174 144 163 147 150 141 142 153 155 145 149 134 133 134 125 123 129 110\n",
      " 108 113   0   0   0   0   0   0   0  50 182 144 173 136 161 154 145 154\n",
      " 146 133 134 141 138 136 141 132 126 124 109 116  11   0   0   0   0   0\n",
      "   0  78 173 154 179 151 158 152 133 152 129 126 132 135 127 119 110 104\n",
      " 107 134 113 123  31   0   0   0   0   0   0 120 156 152 190 183 147 138\n",
      " 137 137 137 143 148 149 133 121 127  82 120 126 116 120  48   0   0   0\n",
      "   0   0   0 135 150 144 196 195 175 161 164 149 150 151 155 148 136 135\n",
      " 142 102 167 154 120 104  77   0   0   0   0   0   0 166 150 146 197 210\n",
      " 165 157 136 149 144 143 140 145 136 121 119  81 166 179 129 100  97   0\n",
      "   0   0   0   0   0 189 143 128 204 215 181 189 166 169 153 156 158 153\n",
      " 137 136 143  76 135 194 132  83 106   0   0   0   0   0  13 184 134 151\n",
      " 176 197 198 181 175 149 142 137 136 148 136 136 129 122  75 179 136  74\n",
      " 133   0   0   0   0   0  26 176 135 199  74 188 204 175 171 145 142 142\n",
      " 144 158 145 130 126 137  30 166 170 100 150  15   0   0   0   0  42 177\n",
      " 138 211   0 192 190 164 167 108 146 132 125 153 120 104 132 114  27 117\n",
      " 174 104 161  29   0   0   0   0  62 157 143 219   0 196 186 172 176 111\n",
      " 157 135 124 160 124 109 129 132  29  45 173 104 127  39   0   0   0   0\n",
      "  97 177 146 228   0 170 189 182 170 121 156 153 144 168 133 119 148 143\n",
      "  45   2 204 119 138  66   0   0   0   0 120 164 146 199   0 155 193 177\n",
      " 137 122 146 130 133 155 105  93 110 112  94   0 202 135 121  72   0   0\n",
      "   0   0 144 153 137 194   0 154 196 188 145 128 163 137 140 165 127 112\n",
      " 142 111 117   0 204 141 121  78   0   0   0   0 144 166 133 189   0 177\n",
      " 191 183 149 131 143 156 143 145 105 110 119  97 135   0 177 170 120  93\n",
      "   0   0   0   0 167 150 136 173   0 220 199 178 145 142 143 166 160 156\n",
      " 129 132 133 133 165   0 155 178 121  95   0   0   0   0 156 143 136 158\n",
      "   0 206 181 175 145 143 174 159 149 157 137 128 132  95 172   0 116 177\n",
      " 131  84   0   0   0   0 118 147 159 117  21 203 177 173 119 118 146 142\n",
      " 141 145 119 114 111  99 182   0  59 180 131  73   0   0   0   0 109 152\n",
      " 165  29  35 210 181 170 135 145 159 141 154 146 109 108 124 151 129  11\n",
      "  38 182 112  76   0   0   0   0 111 183 163  30   3 188 178 172 152 157\n",
      " 182 151 160 156 133 132 148 144 134   0  27 170 124  61   0   0   0   0\n",
      "  12 155 155  62   0 224 159 156 140 145 163 145 142 149 143 138 138 117\n",
      " 133   0  64 160 119  36   0   0   0   0   0 129 157   0   2 255 167 157\n",
      " 156 151 152 154 131 131 134 140 143 138 189   0  15 127  89   0   0   0\n",
      "   0   0   0 119 178  12   0  86 144 161 165 168 172 163 150 152 147 145\n",
      " 134 113  45   0  25 142  89   0   0   0]\n"
     ]
    }
   ],
   "source": [
    "print(X1[6613])"
   ]
  },
  {
   "cell_type": "code",
   "execution_count": 3,
   "id": "cb2ffbec",
   "metadata": {
    "scrolled": false
   },
   "outputs": [
    {
     "name": "stdout",
     "output_type": "stream",
     "text": [
      "Optimization terminated successfully.\n",
      "Optimization terminated successfully.\n",
      "Optimization terminated successfully.\n",
      "Optimization terminated successfully.\n",
      "Optimization terminated successfully.\n",
      "Optimization terminated successfully.\n",
      "Optimization terminated successfully.\n",
      "Optimization terminated successfully.\n",
      "Optimization terminated successfully.\n",
      "Optimization terminated successfully.\n",
      "[[-2.117e+00 -7.000e-03  3.640e-01 ...  1.901e+00 -2.970e-01 -1.090e-01]\n",
      " [-8.152e+00 -0.000e+00  2.000e-03 ... -1.510e-01 -8.000e-03 -0.000e+00]\n",
      " [-3.246e+00  3.800e-02  2.500e-02 ...  3.505e+00  1.993e+00 -5.580e-01]\n",
      " ...\n",
      " [-2.383e+00 -0.000e+00 -0.000e+00 ... -3.470e-01 -2.240e-01 -6.800e-02]\n",
      " [-6.589e+00 -6.000e-03 -1.520e-01 ... -1.621e+00 -9.370e-01 -2.210e-01]\n",
      " [-9.981e+00 -0.000e+00 -0.000e+00 ... -1.500e-02  4.720e-01 -9.000e-03]]\n"
     ]
    }
   ],
   "source": [
    "calc = costing()\n",
    "\n",
    "num_iters = 4000\n",
    "w_opti, acrcy = calc.minCostFun(Mdata, num_iters)\n",
    "\n",
    "print(w_opti.shape)\n",
    "print(acrcy)"
   ]
  },
  {
   "cell_type": "code",
   "execution_count": 7,
   "id": "17c13a8a",
   "metadata": {},
   "outputs": [
    {
     "name": "stdout",
     "output_type": "stream",
     "text": [
      "93.2\n"
     ]
    }
   ],
   "source": [
    "print(acrcy)"
   ]
  },
  {
   "cell_type": "code",
   "execution_count": 6,
   "id": "cd8c643c",
   "metadata": {},
   "outputs": [
    {
     "name": "stdout",
     "output_type": "stream",
     "text": [
      "[[-2.117e+00 -7.000e-03  3.640e-01 ...  1.901e+00 -2.970e-01 -1.090e-01]\n",
      " [-8.152e+00 -0.000e+00  2.000e-03 ... -1.510e-01 -8.000e-03 -0.000e+00]\n",
      " [-3.246e+00  3.800e-02  2.500e-02 ...  3.505e+00  1.993e+00 -5.580e-01]\n",
      " ...\n",
      " [-2.383e+00 -0.000e+00 -0.000e+00 ... -3.470e-01 -2.240e-01 -6.800e-02]\n",
      " [-6.589e+00 -6.000e-03 -1.520e-01 ... -1.621e+00 -9.370e-01 -2.210e-01]\n",
      " [-9.981e+00 -0.000e+00 -0.000e+00 ... -1.500e-02  4.720e-01 -9.000e-03]]\n",
      "86.667\n"
     ]
    }
   ],
   "source": [
    "Mdata1 = pd.read_csv(os.path.join('fashion-mnist_test.csv'))\n",
    "acrcy_test = calc.TestingAccu(Mdata1)\n",
    "\n",
    "print(acrcy_test)"
   ]
  }
 ],
 "metadata": {
  "kernelspec": {
   "display_name": "Python 3 (ipykernel)",
   "language": "python",
   "name": "python3"
  },
  "language_info": {
   "codemirror_mode": {
    "name": "ipython",
    "version": 3
   },
   "file_extension": ".py",
   "mimetype": "text/x-python",
   "name": "python",
   "nbconvert_exporter": "python",
   "pygments_lexer": "ipython3",
   "version": "3.8.10"
  }
 },
 "nbformat": 4,
 "nbformat_minor": 5
}
